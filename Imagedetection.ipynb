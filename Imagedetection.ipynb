{
 "cells": [
  {
   "cell_type": "code",
   "execution_count": 12,
   "id": "ecological-instruction",
   "metadata": {},
   "outputs": [],
   "source": [
    "# import the necessary packages\n",
    "from tensorflow.keras.applications.mobilenet_v2 import preprocess_input\n",
    "from tensorflow.keras.preprocessing.image import img_to_array\n",
    "from tensorflow.keras.models import load_model\n",
    "import numpy as np\n",
    "import argparse\n",
    "import cv2\n",
    "import os\n",
    "import imutils"
   ]
  },
  {
   "cell_type": "code",
   "execution_count": 13,
   "id": "coastal-letters",
   "metadata": {},
   "outputs": [],
   "source": [
    "from pygame import mixer\n",
    "\n",
    "class SoundAlert:\n",
    "\n",
    "    mixer.init()                              # intitializing our mixer for beep\n",
    "\n",
    "    def sound_alert(self):\n",
    "        sound = mixer.Sound(r'C:\\Users\\User\\Downloads\\bb.wav')         # passed our required audio sound beep\n",
    "        sound.play()"
   ]
  },
  {
   "cell_type": "code",
   "execution_count": 14,
   "id": "sustained-mobile",
   "metadata": {},
   "outputs": [],
   "source": [
    "ss=SoundAlert()\n",
    "#ss.sound_alert()"
   ]
  },
  {
   "cell_type": "code",
   "execution_count": 15,
   "id": "whole-finding",
   "metadata": {},
   "outputs": [],
   "source": [
    "prototxtPath = r\"C:\\Users\\User\\Downloads\\Face mask detection files\\deploy.prototxt.txt\"\n",
    "weightsPath =  r\"C:\\Users\\User\\Downloads\\Face mask detection files\\res10_300x300_ssd_iter_140000.caffemodel\"\n",
    "faceNet = cv2.dnn.readNet(prototxtPath, weightsPath)"
   ]
  },
  {
   "cell_type": "code",
   "execution_count": 16,
   "id": "united-corpus",
   "metadata": {},
   "outputs": [],
   "source": [
    "# load the face mask detector model from disk\n",
    "maskNet = load_model(\"mask_detector.model\")"
   ]
  },
  {
   "cell_type": "code",
   "execution_count": 17,
   "id": "pediatric-pottery",
   "metadata": {},
   "outputs": [
    {
     "name": "stdout",
     "output_type": "stream",
     "text": [
      "(1, 1, 101, 7)\n"
     ]
    }
   ],
   "source": [
    "frames = r\"C:\\Users\\User\\Downloads\\37.jpg\"\n",
    "frame=cv2.imread(frames)\n",
    "frame = imutils.resize(frame, width=200)\n",
    "(h, w) = frame.shape[:2]\n",
    "blob = cv2.dnn.blobFromImage(frame, 1.0, (224, 224),(104.0, 177.0, 123.0))\n",
    "    \n",
    "# pass the blob through the network and obtain the face detections\n",
    "faceNet.setInput(blob)\n",
    "detections = faceNet.forward()\n",
    "print(detections.shape)"
   ]
  },
  {
   "cell_type": "code",
   "execution_count": null,
   "id": "sunrise-wagner",
   "metadata": {},
   "outputs": [
    {
     "name": "stdout",
     "output_type": "stream",
     "text": [
      "WARNING:tensorflow:Model was constructed with shape (None, 224, 224, 3) for input Tensor(\"input_1_1:0\", shape=(None, 224, 224, 3), dtype=float32), but it was called on an input with incompatible shape (None, 244, 244, 3).\n"
     ]
    }
   ],
   "source": [
    "withMaskColor, withoutMaskColor  = (0, 255, 0), (0, 0, 255)\n",
    "font = cv2.FONT_HERSHEY_SIMPLEX\n",
    "\n",
    "\n",
    "for i in range(0, detections.shape[2]):\n",
    "    confidence = detections[0, 0, i, 2]\n",
    "    \n",
    "    if confidence > 0.5:\n",
    "        #bounding box\n",
    "        box = detections[0, 0, i, 3:7] * np.array([w, h, w, h])\n",
    "        (startX, startY, endX, endY) = box.astype(\"int\")\n",
    "        \n",
    "        #ensure bounding box within dimensions of frame\n",
    "        (startX, startY)= (max(0, startX), max(0, startY))\n",
    "        (endX, endY) = (min(w-1, endX), min(h-1, endY))\n",
    "        \n",
    "        #process to feed into model\n",
    "        face = frame[startY: endY, startX: endX]\n",
    "        face = cv2.cvtColor(face, cv2.COLOR_BGR2RGB)\n",
    "        face = cv2.resize(face, (244,244))\n",
    "        face = img_to_array(face)\n",
    "        face = preprocess_input(face)\n",
    "        face = np.expand_dims(face, axis=0)\n",
    "        \n",
    "        (mask, withoutMask) = maskNet.predict(face)[0]\n",
    "        \n",
    "        # display result\n",
    "        \n",
    "        label = \"Mask\" if mask> withoutMask else \"No Mask\"\n",
    "        sound = ss.sound_alert() if label == \"No Mask\" else \"mic\"\n",
    "        color = withMaskColor if label==\"Mask\" else withoutMaskColor\n",
    "\n",
    "        #adding accouricy\n",
    "        label = \"{}: {:.2f}%\".format(label, max(mask, withoutMask) * 100)\n",
    "\n",
    "        #display label along with rectangle\n",
    "        cv2.putText(frame, label, (startX, startY-10), font, .5, color, 2)\n",
    "        cv2.rectangle(frame, (startX, startY), (endX, endY), color, 2)\n",
    "        \n",
    "cv2.imshow(\"outPut\", frame)\n",
    "cv2.waitKey(0)\n",
    "cv2.destroyAllWindows()"
   ]
  },
  {
   "cell_type": "code",
   "execution_count": null,
   "id": "corresponding-iceland",
   "metadata": {},
   "outputs": [],
   "source": []
  }
 ],
 "metadata": {
  "kernelspec": {
   "display_name": "Python 3",
   "language": "python",
   "name": "python3"
  },
  "language_info": {
   "codemirror_mode": {
    "name": "ipython",
    "version": 3
   },
   "file_extension": ".py",
   "mimetype": "text/x-python",
   "name": "python",
   "nbconvert_exporter": "python",
   "pygments_lexer": "ipython3",
   "version": "3.8.8"
  }
 },
 "nbformat": 4,
 "nbformat_minor": 5
}
